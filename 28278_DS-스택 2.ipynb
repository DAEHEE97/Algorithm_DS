{
 "cells": [
  {
   "cell_type": "markdown",
   "id": "584bf015",
   "metadata": {},
   "source": [
    "---"
   ]
  },
  {
   "cell_type": "code",
   "execution_count": 5,
   "id": "b1612ad0",
   "metadata": {},
   "outputs": [
    {
     "name": "stdout",
     "output_type": "stream",
     "text": [
      "9\n",
      "4\n",
      "1\n",
      "1 3\n",
      "1 5\n",
      "3\n",
      "2\n",
      "2\n",
      "5\n",
      "5\n",
      "3\n",
      "2\n",
      "3\n",
      "2\n",
      "-1\n",
      "5\n",
      "-1\n"
     ]
    }
   ],
   "source": [
    "N = int(input())\n",
    "\n",
    "lst = []\n",
    "\n",
    "for _ in range(N):\n",
    "    \n",
    "    cmd = list(map(int, input().split()))\n",
    "    \n",
    "    if cmd[0] == 1:\n",
    "        lst.append(cmd[1])\n",
    "        \n",
    "    elif cmd[0] == 2:\n",
    "        if len(lst) == 0:\n",
    "            print(-1)\n",
    "            \n",
    "        else:\n",
    "            n = lst.pop()\n",
    "            print(n)\n",
    "        \n",
    "    elif cmd[0] == 3:\n",
    "        print(len(lst))\n",
    "    \n",
    "    elif cmd[0] == 4:\n",
    "        if len(lst) == 0:\n",
    "            print(1)\n",
    "            \n",
    "        else:\n",
    "            print(0)\n",
    "        \n",
    "    elif cmd[0] == 5:\n",
    "        if len(lst) == 0:\n",
    "            print(-1)\n",
    "            \n",
    "        else:\n",
    "            print(lst[-1])\n",
    "        \n",
    "    \n",
    "    "
   ]
  }
 ],
 "metadata": {
  "kernelspec": {
   "display_name": "Python 3 (ipykernel)",
   "language": "python",
   "name": "python3"
  },
  "language_info": {
   "codemirror_mode": {
    "name": "ipython",
    "version": 3
   },
   "file_extension": ".py",
   "mimetype": "text/x-python",
   "name": "python",
   "nbconvert_exporter": "python",
   "pygments_lexer": "ipython3",
   "version": "3.8.16"
  },
  "toc": {
   "base_numbering": 1,
   "nav_menu": {},
   "number_sections": true,
   "sideBar": true,
   "skip_h1_title": false,
   "title_cell": "Table of Contents",
   "title_sidebar": "Contents",
   "toc_cell": false,
   "toc_position": {},
   "toc_section_display": true,
   "toc_window_display": false
  },
  "varInspector": {
   "cols": {
    "lenName": 16,
    "lenType": 16,
    "lenVar": 40
   },
   "kernels_config": {
    "python": {
     "delete_cmd_postfix": "",
     "delete_cmd_prefix": "del ",
     "library": "var_list.py",
     "varRefreshCmd": "print(var_dic_list())"
    },
    "r": {
     "delete_cmd_postfix": ") ",
     "delete_cmd_prefix": "rm(",
     "library": "var_list.r",
     "varRefreshCmd": "cat(var_dic_list()) "
    }
   },
   "types_to_exclude": [
    "module",
    "function",
    "builtin_function_or_method",
    "instance",
    "_Feature"
   ],
   "window_display": false
  }
 },
 "nbformat": 4,
 "nbformat_minor": 5
}
