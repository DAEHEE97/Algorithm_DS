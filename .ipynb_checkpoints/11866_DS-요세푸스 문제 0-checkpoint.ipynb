{
 "cells": [
  {
   "cell_type": "markdown",
   "id": "e0789cd1",
   "metadata": {},
   "source": [
    "# 요세푸스 문제 0\n",
    "\n",
    "\n",
    "- lst 다음 k칸 위치 처리\n",
    "\n",
    "- k번째 반복처리\n",
    "\n",
    "- 리스트 길이 벗어나면 리턴, % len(lst)"
   ]
  },
  {
   "cell_type": "markdown",
   "id": "1d1cca2d",
   "metadata": {},
   "source": [
    "---"
   ]
  },
  {
   "cell_type": "markdown",
   "id": "a2cb13b6",
   "metadata": {},
   "source": [
    "## lst 처리\n",
    "\n",
    "- 현재 위치에서 k칸 이동, pop 처리\n"
   ]
  },
  {
   "cell_type": "code",
   "execution_count": 1,
   "id": "b2842214",
   "metadata": {},
   "outputs": [
    {
     "name": "stdout",
     "output_type": "stream",
     "text": [
      "7 3\n",
      "<3, 6, 2, 7, 5, 1, 4>\n"
     ]
    }
   ],
   "source": [
    "N, k = map(int, input().split())\n",
    "\n",
    "lst = list(range(1, N+1))\n",
    "\n",
    "idx = 0\n",
    "\n",
    "ans = []\n",
    "\n",
    "while lst:\n",
    "    \n",
    "    idx = (idx + k - 1) % len(lst)\n",
    "    \n",
    "    ans.append(lst.pop(idx))\n",
    "    \n",
    "    \n",
    "print(\"<\", end='')\n",
    "\n",
    "print(', '.join(list(map(str, ans))), end='')\n",
    "\n",
    "print(\">\") "
   ]
  },
  {
   "cell_type": "markdown",
   "id": "c26b0c57",
   "metadata": {},
   "source": [
    "---"
   ]
  },
  {
   "cell_type": "markdown",
   "id": "36a04dbf",
   "metadata": {},
   "source": [
    "## deque, 원형 큐 구현\n",
    "\n",
    "- rotate, popleft"
   ]
  },
  {
   "cell_type": "code",
   "execution_count": 6,
   "id": "cefbefe0",
   "metadata": {},
   "outputs": [
    {
     "name": "stdout",
     "output_type": "stream",
     "text": [
      "7 3\n",
      "[3, 6, 2, 7, 5, 1, 4]\n"
     ]
    }
   ],
   "source": [
    "from collections import deque\n",
    "\n",
    "\n",
    "N, k = map(int, input().split())\n",
    "\n",
    "q = deque(list(range(1, N+1)))\n",
    "\n",
    "\n",
    "idx = 0\n",
    "\n",
    "ans = []\n",
    "\n",
    "while q:\n",
    "    \n",
    "    q.rotate(-(k-1))\n",
    "    \n",
    "    ans.append(q.popleft())\n",
    "    \n",
    "print(\"<\", end='')\n",
    "\n",
    "print(', '.join(list(map(str, ans))), end='')\n",
    "\n",
    "print(\">\") "
   ]
  }
 ],
 "metadata": {
  "kernelspec": {
   "display_name": "Python 3 (ipykernel)",
   "language": "python",
   "name": "python3"
  },
  "language_info": {
   "codemirror_mode": {
    "name": "ipython",
    "version": 3
   },
   "file_extension": ".py",
   "mimetype": "text/x-python",
   "name": "python",
   "nbconvert_exporter": "python",
   "pygments_lexer": "ipython3",
   "version": "3.8.16"
  },
  "toc": {
   "base_numbering": 1,
   "nav_menu": {},
   "number_sections": true,
   "sideBar": true,
   "skip_h1_title": false,
   "title_cell": "Table of Contents",
   "title_sidebar": "Contents",
   "toc_cell": false,
   "toc_position": {},
   "toc_section_display": true,
   "toc_window_display": false
  },
  "varInspector": {
   "cols": {
    "lenName": 16,
    "lenType": 16,
    "lenVar": 40
   },
   "kernels_config": {
    "python": {
     "delete_cmd_postfix": "",
     "delete_cmd_prefix": "del ",
     "library": "var_list.py",
     "varRefreshCmd": "print(var_dic_list())"
    },
    "r": {
     "delete_cmd_postfix": ") ",
     "delete_cmd_prefix": "rm(",
     "library": "var_list.r",
     "varRefreshCmd": "cat(var_dic_list()) "
    }
   },
   "types_to_exclude": [
    "module",
    "function",
    "builtin_function_or_method",
    "instance",
    "_Feature"
   ],
   "window_display": false
  }
 },
 "nbformat": 4,
 "nbformat_minor": 5
}
