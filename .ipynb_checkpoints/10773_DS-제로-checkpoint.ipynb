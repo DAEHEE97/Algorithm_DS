{
 "cells": [
  {
   "cell_type": "markdown",
   "id": "93bb1146",
   "metadata": {},
   "source": [
    "# 10773_제로\n"
   ]
  },
  {
   "cell_type": "markdown",
   "id": "46d462ad",
   "metadata": {},
   "source": [
    "---"
   ]
  },
  {
   "cell_type": "markdown",
   "id": "e783f334",
   "metadata": {},
   "source": [
    "\n",
    "- stack\n",
    "- sum(), 시간 초과\n",
    "- pop() 처리시, lst(stack)이 clear 상태면 안됨, \n",
    "    - pop을 연속하는 처리하는 경우도 있기 때문에, 단순 prev 처리 불가\n",
    "    - 정수가 \"0\"일 경우에 지울 수 있는 수가 있음을 보장하는 문제 였음"
   ]
  },
  {
   "cell_type": "markdown",
   "id": "07445d58",
   "metadata": {},
   "source": [
    "---"
   ]
  },
  {
   "cell_type": "markdown",
   "id": "48e88c48",
   "metadata": {},
   "source": [
    "- 시간 초과 > sum > s 연산 처리"
   ]
  },
  {
   "cell_type": "code",
   "execution_count": 2,
   "id": "55f27d46",
   "metadata": {},
   "outputs": [
    {
     "name": "stdout",
     "output_type": "stream",
     "text": [
      "10\n",
      "1\n",
      "3\n",
      "5\n",
      "4\n",
      "0\n",
      "0\n",
      "7\n",
      "0\n",
      "0\n",
      "6\n",
      "7\n"
     ]
    }
   ],
   "source": [
    "K = int(input())\n",
    "\n",
    "lst = []\n",
    "\n",
    "s = 0\n",
    "\n",
    "prev = 0\n",
    "\n",
    "for _ in range(K):\n",
    "    \n",
    "    N = int(input())\n",
    "    \n",
    "    if N == 0:\n",
    "        s -= lst.pop()\n",
    "    else:\n",
    "        lst.append(N)\n",
    "        s += N\n",
    "        \n",
    "        \n",
    "        \n",
    "print(s)\n"
   ]
  },
  {
   "cell_type": "markdown",
   "id": "be2d6142",
   "metadata": {},
   "source": [
    "---"
   ]
  },
  {
   "cell_type": "markdown",
   "id": "bbfeeb88",
   "metadata": {},
   "source": [
    "- 시간 초과"
   ]
  },
  {
   "cell_type": "code",
   "execution_count": 2,
   "id": "c7018fcc",
   "metadata": {},
   "outputs": [
    {
     "name": "stdout",
     "output_type": "stream",
     "text": [
      "10\n",
      "1\n",
      "3\n",
      "5\n",
      "4\n",
      "0\n",
      "0\n",
      "7\n",
      "0\n",
      "0\n",
      "6\n",
      "7\n"
     ]
    }
   ],
   "source": [
    "K = int(input())\n",
    "\n",
    "lst = []\n",
    "\n",
    "for _ in range(K):\n",
    "    \n",
    "    N = int(input())\n",
    "    \n",
    "    if N == 0:\n",
    "        lst.pop()\n",
    "    else:\n",
    "        lst.append(N)\n",
    "        \n",
    "        \n",
    "print(sum(lst))\n"
   ]
  },
  {
   "cell_type": "markdown",
   "id": "cd436f5d",
   "metadata": {},
   "source": [
    "- 0 입력 후, 또 0 입력 처리를 해줘야 함 > lst(stack) 필요함"
   ]
  },
  {
   "cell_type": "code",
   "execution_count": 4,
   "id": "7b43230d",
   "metadata": {},
   "outputs": [
    {
     "name": "stdout",
     "output_type": "stream",
     "text": [
      "10\n",
      "1\n",
      "3\n",
      "5\n",
      "4\n",
      "0\n",
      "0\n",
      "7\n",
      "0\n",
      "0\n",
      "6\n",
      "4\n"
     ]
    }
   ],
   "source": [
    "K = int(input())\n",
    "\n",
    "prev = 0\n",
    "\n",
    "s = 0\n",
    "\n",
    "for _ in range(K):\n",
    "    \n",
    "    N = int(input())\n",
    "    \n",
    "    if N == 0:\n",
    "        s -= prev\n",
    "    else:\n",
    "        s += N\n",
    "        prev = N\n",
    "        \n",
    "        \n",
    "print(s)\n"
   ]
  }
 ],
 "metadata": {
  "kernelspec": {
   "display_name": "Python 3 (ipykernel)",
   "language": "python",
   "name": "python3"
  },
  "language_info": {
   "codemirror_mode": {
    "name": "ipython",
    "version": 3
   },
   "file_extension": ".py",
   "mimetype": "text/x-python",
   "name": "python",
   "nbconvert_exporter": "python",
   "pygments_lexer": "ipython3",
   "version": "3.8.16"
  },
  "toc": {
   "base_numbering": 1,
   "nav_menu": {},
   "number_sections": true,
   "sideBar": true,
   "skip_h1_title": false,
   "title_cell": "Table of Contents",
   "title_sidebar": "Contents",
   "toc_cell": false,
   "toc_position": {},
   "toc_section_display": true,
   "toc_window_display": false
  },
  "varInspector": {
   "cols": {
    "lenName": 16,
    "lenType": 16,
    "lenVar": 40
   },
   "kernels_config": {
    "python": {
     "delete_cmd_postfix": "",
     "delete_cmd_prefix": "del ",
     "library": "var_list.py",
     "varRefreshCmd": "print(var_dic_list())"
    },
    "r": {
     "delete_cmd_postfix": ") ",
     "delete_cmd_prefix": "rm(",
     "library": "var_list.r",
     "varRefreshCmd": "cat(var_dic_list()) "
    }
   },
   "types_to_exclude": [
    "module",
    "function",
    "builtin_function_or_method",
    "instance",
    "_Feature"
   ],
   "window_display": false
  }
 },
 "nbformat": 4,
 "nbformat_minor": 5
}
