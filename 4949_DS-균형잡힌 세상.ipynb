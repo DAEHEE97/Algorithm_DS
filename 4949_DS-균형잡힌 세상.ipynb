{
 "cells": [
  {
   "cell_type": "markdown",
   "id": "75ed8875",
   "metadata": {},
   "source": [
    "# 4949_DS-균형잡힌 세상"
   ]
  },
  {
   "cell_type": "markdown",
   "id": "296de985",
   "metadata": {},
   "source": [
    "---"
   ]
  },
  {
   "cell_type": "markdown",
   "id": "f168470f",
   "metadata": {},
   "source": [
    "- 우선 순위 조건 처리\n",
    "- 괄호가 아예 없는 string 경우, stack에 아예 삽입 x > yes 처리"
   ]
  },
  {
   "cell_type": "markdown",
   "id": "6c6b05ad",
   "metadata": {},
   "source": [
    "---"
   ]
  },
  {
   "cell_type": "code",
   "execution_count": null,
   "id": "9409d7b6",
   "metadata": {},
   "outputs": [],
   "source": [
    "while True:\n",
    "\n",
    "    lst =  list(input())\n",
    "    \n",
    "    if lst[0] == '.' and lst[-1] == '.':\n",
    "        break\n",
    "        \n",
    "    \n",
    "    stack = []\n",
    "    \n",
    "    # 문자 면 그냥 pass\n",
    "    for c in lst:\n",
    "        \n",
    "        \n",
    "    \n",
    "        if c == '(' or c == '[':\n",
    "            \n",
    "            stack.append(c)\n",
    "            \n",
    "            \n",
    "            \n",
    "        elif c == ')':\n",
    "            \n",
    "            # stack의 길이를 우선 처리 해서 index error 처리\n",
    "            if len(stack) != 0 and stack[-1] == '(':\n",
    "                stack.pop()\n",
    "            \n",
    "            else:\n",
    "                stack.append(c)\n",
    "                break # 이미 여기서 종료\n",
    "                \n",
    "        \n",
    "        elif c == ']':\n",
    "            \n",
    "            # stack의 길이를 우선 처리 해서 index error 처리\n",
    "            if len(stack) != 0 and stack[-1] == '[':\n",
    "                stack.pop()\n",
    "            \n",
    "            else:\n",
    "                stack.append(c)\n",
    "                break # 삽입 하고 종료 하므로, len != 0 처리\n",
    "\n",
    "        # 나머지 다른 문자들은 모두 pass\n",
    "        else:\n",
    "            pass\n",
    "\n",
    "            \n",
    "    \n",
    "    if len(stack) == 0:\n",
    "        print('yes')\n",
    "    else:\n",
    "        print('no')\n",
    "            \n",
    "            "
   ]
  }
 ],
 "metadata": {
  "kernelspec": {
   "display_name": "Python 3 (ipykernel)",
   "language": "python",
   "name": "python3"
  },
  "language_info": {
   "codemirror_mode": {
    "name": "ipython",
    "version": 3
   },
   "file_extension": ".py",
   "mimetype": "text/x-python",
   "name": "python",
   "nbconvert_exporter": "python",
   "pygments_lexer": "ipython3",
   "version": "3.8.16"
  },
  "toc": {
   "base_numbering": 1,
   "nav_menu": {},
   "number_sections": true,
   "sideBar": true,
   "skip_h1_title": false,
   "title_cell": "Table of Contents",
   "title_sidebar": "Contents",
   "toc_cell": false,
   "toc_position": {},
   "toc_section_display": true,
   "toc_window_display": false
  },
  "varInspector": {
   "cols": {
    "lenName": 16,
    "lenType": 16,
    "lenVar": 40
   },
   "kernels_config": {
    "python": {
     "delete_cmd_postfix": "",
     "delete_cmd_prefix": "del ",
     "library": "var_list.py",
     "varRefreshCmd": "print(var_dic_list())"
    },
    "r": {
     "delete_cmd_postfix": ") ",
     "delete_cmd_prefix": "rm(",
     "library": "var_list.r",
     "varRefreshCmd": "cat(var_dic_list()) "
    }
   },
   "types_to_exclude": [
    "module",
    "function",
    "builtin_function_or_method",
    "instance",
    "_Feature"
   ],
   "window_display": false
  }
 },
 "nbformat": 4,
 "nbformat_minor": 5
}
