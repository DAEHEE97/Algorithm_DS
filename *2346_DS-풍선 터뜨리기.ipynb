{
 "cells": [
  {
   "cell_type": "markdown",
   "id": "3145ec78",
   "metadata": {},
   "source": [
    "# 2346_DS-풍선 터뜨리기"
   ]
  },
  {
   "cell_type": "markdown",
   "id": "060f7e86",
   "metadata": {},
   "source": [
    "---\n"
   ]
  },
  {
   "cell_type": "markdown",
   "id": "4aebee58",
   "metadata": {},
   "source": [
    "- 풍선 번호 저장 구조\n",
    "\n",
    "- pop, left 처리\n",
    "이 경우 3이 적혀 있는 1번 풍선, -3이 적혀 있는 4번 풍선, -1이 적혀 있는 5번 풍선, 1이 적혀 있는 3번 풍선, 2가 적혀 있는 2번 풍선의 순서대로 터지게 된다."
   ]
  },
  {
   "cell_type": "markdown",
   "id": "147e56a2",
   "metadata": {},
   "source": [
    "- deque rotate"
   ]
  },
  {
   "cell_type": "code",
   "execution_count": 54,
   "id": "f3641f61",
   "metadata": {},
   "outputs": [
    {
     "name": "stdout",
     "output_type": "stream",
     "text": [
      "5\n",
      "3 2 1 -3 -1\n"
     ]
    }
   ],
   "source": [
    "from collections import deque\n",
    "\n",
    "N = int(input())\n",
    "\n",
    "\n",
    "lst = list(map(int, input().split()))\n",
    "\n",
    "\n",
    "arr = [ (i+1,v) for i,v in enumerate(lst) ]\n",
    "\n",
    "\n",
    "    \n",
    "    \n",
    "ans = []\n",
    "\n",
    "idx = 0\n",
    "\n",
    "for _ in range(N):\n",
    "\n",
    "    # idx, arr[idx][0], arr[idx][1]\n",
    "    \n",
    "    ans.append(arr[idx][0])\n",
    "    \n",
    "    tmp = idx\n",
    "    \n",
    "    idx = idx + arr[idx][1] -1 # 0 + 3\n",
    "    \n",
    "    arr.pop(tmp)\n"
   ]
  }
 ],
 "metadata": {
  "kernelspec": {
   "display_name": "Python 3 (ipykernel)",
   "language": "python",
   "name": "python3"
  },
  "language_info": {
   "codemirror_mode": {
    "name": "ipython",
    "version": 3
   },
   "file_extension": ".py",
   "mimetype": "text/x-python",
   "name": "python",
   "nbconvert_exporter": "python",
   "pygments_lexer": "ipython3",
   "version": "3.8.16"
  },
  "toc": {
   "base_numbering": 1,
   "nav_menu": {},
   "number_sections": true,
   "sideBar": true,
   "skip_h1_title": false,
   "title_cell": "Table of Contents",
   "title_sidebar": "Contents",
   "toc_cell": false,
   "toc_position": {},
   "toc_section_display": true,
   "toc_window_display": false
  },
  "varInspector": {
   "cols": {
    "lenName": 16,
    "lenType": 16,
    "lenVar": 40
   },
   "kernels_config": {
    "python": {
     "delete_cmd_postfix": "",
     "delete_cmd_prefix": "del ",
     "library": "var_list.py",
     "varRefreshCmd": "print(var_dic_list())"
    },
    "r": {
     "delete_cmd_postfix": ") ",
     "delete_cmd_prefix": "rm(",
     "library": "var_list.r",
     "varRefreshCmd": "cat(var_dic_list()) "
    }
   },
   "types_to_exclude": [
    "module",
    "function",
    "builtin_function_or_method",
    "instance",
    "_Feature"
   ],
   "window_display": false
  }
 },
 "nbformat": 4,
 "nbformat_minor": 5
}
